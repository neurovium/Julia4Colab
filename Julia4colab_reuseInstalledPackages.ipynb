{
  "nbformat": 4,
  "nbformat_minor": 0,
  "metadata": {
    "colab": {
      "provenance": [],
      "mount_file_id": "1YPZBbaTo00PGIb7xEUB0rp9U2dzuQRly",
      "authorship_tag": "ABX9TyMQDiT6vjGZ6DOmqhNKw6uP",
      "include_colab_link": true
    },
    "kernelspec": {
      "name": "julia-1.10",
      "display_name": "Julia 1.10.1"
    }
  },
  "cells": [
    {
      "cell_type": "markdown",
      "metadata": {
        "id": "view-in-github",
        "colab_type": "text"
      },
      "source": [
        "<a href=\"https://colab.research.google.com/github/neurovium/Julia4Colab/blob/main/Julia4colab_reuseInstalledPackages.ipynb\" target=\"_parent\"><img src=\"https://colab.research.google.com/assets/colab-badge.svg\" alt=\"Open In Colab\"/></a>"
      ]
    },
    {
      "cell_type": "code",
      "source": [
        "# Install Julia (no additional packages) in the virtual environment\n",
        "%%capture\n",
        "%%shell\n",
        "if ! command -v julia 3>&1 > /dev/null; then\n",
        "    wget -q 'https://julialang-s3.julialang.org/bin/linux/x64/1.10/julia-1.10.1-linux-x86_64.tar.gz' -O /tmp/julia.tar.gz\n",
        "    tar -x -f /tmp/julia.tar.gz -C /usr/local --strip-components 1\n",
        "    rm /tmp/julia.tar.gz\n",
        "fi\n",
        "julia -e 'using Pkg; pkg\"add IJulia; precompile;\"' # this will take a few minutes\n",
        "echo 'Done'"
      ],
      "metadata": {
        "id": "dYoNenKerKMY"
      },
      "execution_count": 1,
      "outputs": []
    },
    {
      "cell_type": "markdown",
      "source": [
        "Mount google drive like before (this option becomes available after you run something in the python notebook)"
      ],
      "metadata": {
        "id": "rqNiBV6tqxaK"
      }
    },
    {
      "cell_type": "code",
      "source": [
        "# test installation\n",
        "%%shell\n",
        "julia --version"
      ],
      "metadata": {
        "colab": {
          "base_uri": "https://localhost:8080/"
        },
        "id": "YbjZwlFox-5T",
        "outputId": "cfe3f17c-6186-462c-dcf3-1dfbdd25f9f8"
      },
      "execution_count": 2,
      "outputs": [
        {
          "output_type": "stream",
          "name": "stdout",
          "text": [
            "julia version 1.10.1\n"
          ]
        },
        {
          "output_type": "execute_result",
          "data": {
            "text/plain": []
          },
          "metadata": {},
          "execution_count": 2
        }
      ]
    },
    {
      "cell_type": "code",
      "execution_count": 3,
      "metadata": {
        "colab": {
          "base_uri": "https://localhost:8080/"
        },
        "id": "iZ2WnUl1qr82",
        "outputId": "d7092735-0e31-4b96-99ca-92100b00133c"
      },
      "outputs": [
        {
          "output_type": "stream",
          "name": "stdout",
          "text": [
            "grep: /root/.julia/config/startup.jl: No such file or directory\n",
            "ENV[\"JULIA_DEPOT_PATH\"] = \"/content/drive/MyDrive/julia_depot\"\n"
          ]
        },
        {
          "output_type": "execute_result",
          "data": {
            "text/plain": []
          },
          "metadata": {},
          "execution_count": 3
        }
      ],
      "source": [
        "# Set Up Configuration Directory and Environment Variable:\n",
        "%%shell\n",
        "mkdir -p ~/.julia/config\n",
        "if ! grep -q \"ENV[\\\"JULIA_DEPOT_PATH\\\"]\" ~/.julia/config/startup.jl; then\n",
        "    echo 'ENV[\"JULIA_DEPOT_PATH\"] = \"/content/drive/MyDrive/julia_depot\"' >> ~/.julia/config/startup.jl\n",
        "fi\n",
        "\n",
        "# Test the julia startup file in Python; this should show the depot for packages already installed in your google drive\n",
        "cat ~/.julia/config/startup.jl"
      ]
    },
    {
      "cell_type": "code",
      "source": [
        "# Test the Environment Variable in Julia\n",
        "%%shell\n",
        "julia -e '\n",
        "println(\"Testing JULIA_DEPOT_PATH:\");\n",
        "println(ENV[\"JULIA_DEPOT_PATH\"]);'"
      ],
      "metadata": {
        "colab": {
          "base_uri": "https://localhost:8080/"
        },
        "id": "0PlOn8mBr-f5",
        "outputId": "e96a5c3e-6bc1-46b7-86c0-d5febb44bdbe"
      },
      "execution_count": 4,
      "outputs": [
        {
          "output_type": "stream",
          "name": "stdout",
          "text": [
            "Testing JULIA_DEPOT_PATH:\n",
            "/content/drive/MyDrive/julia_depot\n"
          ]
        },
        {
          "output_type": "execute_result",
          "data": {
            "text/plain": []
          },
          "metadata": {},
          "execution_count": 4
        }
      ]
    },
    {
      "cell_type": "markdown",
      "source": [
        "Setup ENV and reuse the existent packages in your google drive for the julia that is running in the virtual machine!"
      ],
      "metadata": {
        "id": "5nu3_yICyfTy"
      }
    },
    {
      "cell_type": "code",
      "source": [
        "# Copy the environment files from Google Drive to the current directory (virtual environment)\n",
        "%%shell\n",
        "export JULIA_DEPOT_PATH=\"/content/drive/MyDrive/julia_depot\" # Set the JULIA_DEPOT_PATH environment variable in linux\n",
        "\n",
        "# Copy the environment files from Google Drive\n",
        "cp /content/drive/MyDrive/JuliaColab/Project.toml .\n",
        "cp /content/drive/MyDrive/JuliaColab/Manifest.toml .\n",
        "\n",
        "# Run Julia to activate and instantiate the environment\n",
        "julia --project=\".\" -e '\n",
        "using Pkg;\n",
        "println(\"Activating project...\");\n",
        "Pkg.activate(\".\");  # Activate the environment in the current directory\n",
        "println(\"Instantiating environment...\");\n",
        "Pkg.instantiate();\n",
        "println(\"Loading packages...\");\n",
        "using DataStructures, RandomNumbers, StatsBase;\n",
        "println(\"All packages loaded successfully!\");\n",
        "'\n"
      ],
      "metadata": {
        "colab": {
          "base_uri": "https://localhost:8080/"
        },
        "id": "nbjcXLSIspUa",
        "outputId": "a1cf2617-4cdb-47be-bed9-8d1d9fd162bf"
      },
      "execution_count": 5,
      "outputs": [
        {
          "output_type": "stream",
          "name": "stdout",
          "text": [
            "Activating project...\n",
            "\u001b[32m\u001b[1m  Activating\u001b[22m\u001b[39m project at `/content`\n",
            "Instantiating environment...\n",
            "\u001b[?25hLoading packages...\n",
            "All packages loaded successfully!\n"
          ]
        },
        {
          "output_type": "execute_result",
          "data": {
            "text/plain": []
          },
          "metadata": {},
          "execution_count": 5
        }
      ]
    },
    {
      "cell_type": "markdown",
      "source": [
        "Alternatively, you want to use julia in the notebook directly (instead of invoking it through python access to shell).\n",
        "You need to do 2 things:\n",
        "\n",
        "1.   installl Ijulia: (you can do this in the initial phase of julia installation or here)\n",
        " julia -e 'using Pkg; pkg\"add IJulia; precompile;\"'\n",
        "2.   then go to edit, notebook settings and choose julia (and test versioninf)"
      ],
      "metadata": {
        "id": "6bCMXWWUs-5D"
      }
    },
    {
      "cell_type": "code",
      "source": [
        "## Uncomment and run this cell to install IJulia if you have not yet installed it.\n",
        "# %%shell\n",
        "# julia -e 'using Pkg; pkg\"add IJulia; precompile;\"'"
      ],
      "metadata": {
        "colab": {
          "base_uri": "https://localhost:8080/"
        },
        "id": "UbEbUHP51jkQ",
        "outputId": "ce49d9aa-5335-4b9d-ae18-62baee4d93f0"
      },
      "execution_count": 13,
      "outputs": [
        {
          "output_type": "stream",
          "name": "stdout",
          "text": [
            "\u001b[33m\u001b[1m┌ \u001b[22m\u001b[39m\u001b[33m\u001b[1mWarning: \u001b[22m\u001b[39mThe Pkg REPL mode is intended for interactive use only, and should not be used from scripts. It is recommended to use the functional API instead.\n",
            "\u001b[33m\u001b[1m└ \u001b[22m\u001b[39m\u001b[90m@ Pkg.REPLMode /usr/local/share/julia/stdlib/v1.10/Pkg/src/REPLMode/REPLMode.jl:382\u001b[39m\n",
            "\u001b[32m\u001b[1m    Updating\u001b[22m\u001b[39m registry at `~/.julia/registries/General.toml`\n",
            "\u001b[32m\u001b[1m   Resolving\u001b[22m\u001b[39m package versions...\n",
            "\u001b[32m\u001b[1m  No Changes\u001b[22m\u001b[39m to `~/.julia/environments/v1.10/Project.toml`\n",
            "\u001b[32m\u001b[1m  No Changes\u001b[22m\u001b[39m to `~/.julia/environments/v1.10/Manifest.toml`\n",
            "\u001b[?25l\u001b[?25h\u001b[2K\u001b[?25h\u001b[?25h"
          ]
        },
        {
          "output_type": "execute_result",
          "data": {
            "text/plain": []
          },
          "metadata": {},
          "execution_count": 13
        }
      ]
    },
    {
      "cell_type": "markdown",
      "source": [
        "now go to edit>notebook setting and choose julia.\n",
        "Wait for it to refresh and you are in Julia!"
      ],
      "metadata": {
        "id": "2YFuDt8u5uY9"
      }
    },
    {
      "cell_type": "code",
      "source": [
        "versioninfo()"
      ],
      "metadata": {
        "colab": {
          "base_uri": "https://localhost:8080/"
        },
        "id": "e8aY_BnWs5fa",
        "outputId": "2f75c533-237d-425e-d6bd-84b88afdba38"
      },
      "execution_count": 1,
      "outputs": [
        {
          "output_type": "stream",
          "name": "stdout",
          "text": [
            "Julia Version 1.10.1\n",
            "Commit 7790d6f0641 (2024-02-13 20:41 UTC)\n",
            "Build Info:\n",
            "  Official https://julialang.org/ release\n",
            "Platform Info:\n",
            "  OS: Linux (x86_64-linux-gnu)\n",
            "  CPU: 2 × Intel(R) Xeon(R) CPU @ 2.20GHz\n",
            "  WORD_SIZE: 64\n",
            "  LIBM: libopenlibm\n",
            "  LLVM: libLLVM-15.0.7 (ORCJIT, broadwell)\n",
            "Threads: 1 default, 0 interactive, 1 GC (on 2 virtual cores)\n",
            "Environment:\n",
            "  LD_LIBRARY_PATH = /usr/local/nvidia/lib:/usr/local/nvidia/lib64\n",
            "  JULIA_DEPOT_PATH = /content/drive/MyDrive/julia_depot\n"
          ]
        }
      ]
    },
    {
      "cell_type": "markdown",
      "source": [
        "At this point it does know what packages are installed but can not access them"
      ],
      "metadata": {
        "id": "dvksiFsr9A2Q"
      }
    },
    {
      "cell_type": "code",
      "source": [
        "]status"
      ],
      "metadata": {
        "colab": {
          "base_uri": "https://localhost:8080/"
        },
        "id": "rHa-XxUutMBL",
        "outputId": "ff880876-4b8d-4177-e749-efab1263aa60"
      },
      "execution_count": 3,
      "outputs": [
        {
          "output_type": "stream",
          "name": "stdout",
          "text": [
            "\u001b[32m\u001b[1mStatus\u001b[22m\u001b[39m `/content/Project.toml`\n",
            "\u001b[91m→\u001b[39m \u001b[90m[864edb3b] \u001b[39mDataStructures v0.18.20\n",
            "\u001b[91m→\u001b[39m \u001b[90m[e6cf234a] \u001b[39mRandomNumbers v1.6.0\n",
            "\u001b[91m→\u001b[39m \u001b[90m[2913bbd2] \u001b[39mStatsBase v0.34.3\n",
            "\u001b[36m\u001b[1mInfo\u001b[22m\u001b[39m Packages marked with \u001b[91m→\u001b[39m are not downloaded, use `instantiate` to download\n"
          ]
        }
      ]
    },
    {
      "cell_type": "code",
      "source": [
        ";cat /content/drive/MyDrive/JuliaColab/Project.toml"
      ],
      "metadata": {
        "colab": {
          "base_uri": "https://localhost:8080/"
        },
        "id": "cXz8xDw9tsay",
        "outputId": "08edfa32-e4cd-4123-c9be-473145cc8022"
      },
      "execution_count": 4,
      "outputs": [
        {
          "output_type": "stream",
          "name": "stdout",
          "text": [
            "[deps]\n",
            "DataStructures = \"864edb3b-99cc-5e75-8d2d-829cb0a9cfe8\"\n",
            "RandomNumbers = \"e6cf234a-135c-5ec9-84dd-332b85af5143\"\n",
            "StatsBase = \"2913bbd2-ae8a-5f71-8c99-4fb6c76f3a91\"\n"
          ]
        }
      ]
    },
    {
      "cell_type": "markdown",
      "source": [
        "So you need to \"activate\""
      ],
      "metadata": {
        "id": "yWUO7hOw7bz_"
      }
    },
    {
      "cell_type": "code",
      "source": [
        "import Pkg\n",
        "\n",
        "# Set the JULIA_DEPOT_PATH\n",
        "ENV[\"JULIA_DEPOT_PATH\"] = \"/content/drive/MyDrive/julia_depot\"\n",
        "println(\"Updated JULIA_DEPOT_PATH: \", ENV[\"JULIA_DEPOT_PATH\"])\n",
        "\n",
        "# Activate the environment\n",
        "Pkg.activate(\"/content/drive/MyDrive/JuliaColab\")\n",
        "\n",
        "# Synchronize the environment with the existing packages in the depot\n",
        "Pkg.resolve()\n",
        "\n",
        "# Verify packages are accessible without re-installing\n",
        "Pkg.status()\n"
      ],
      "metadata": {
        "colab": {
          "base_uri": "https://localhost:8080/"
        },
        "id": "ehp2t6sj2rpJ",
        "outputId": "5c201088-1b73-404b-9b1b-6309426d5cf2"
      },
      "execution_count": 7,
      "outputs": [
        {
          "output_type": "stream",
          "name": "stdout",
          "text": [
            "Updated JULIA_DEPOT_PATH: /content/drive/MyDrive/julia_depot\n"
          ]
        },
        {
          "output_type": "stream",
          "name": "stderr",
          "text": [
            "\u001b[32m\u001b[1m  Activating\u001b[22m\u001b[39m project at `/content/drive/MyDrive/JuliaColab`\n",
            "\u001b[32m\u001b[1m   Installed\u001b[22m\u001b[39m IrrationalConstants ─ v0.2.2\n",
            "\u001b[32m\u001b[1m   Installed\u001b[22m\u001b[39m StatsAPI ──────────── v1.7.0\n",
            "\u001b[32m\u001b[1m   Installed\u001b[22m\u001b[39m Compat ────────────── v4.16.0\n",
            "\u001b[32m\u001b[1m   Installed\u001b[22m\u001b[39m OrderedCollections ── v1.6.3\n",
            "\u001b[32m\u001b[1m   Installed\u001b[22m\u001b[39m SortingAlgorithms ─── v1.2.1\n",
            "\u001b[32m\u001b[1m   Installed\u001b[22m\u001b[39m StatsBase ─────────── v0.34.3\n",
            "\u001b[32m\u001b[1m   Installed\u001b[22m\u001b[39m DataAPI ───────────── v1.16.0\n",
            "\u001b[32m\u001b[1m   Installed\u001b[22m\u001b[39m LogExpFunctions ───── v0.3.28\n",
            "\u001b[32m\u001b[1m   Installed\u001b[22m\u001b[39m Missings ──────────── v1.2.0\n",
            "\u001b[32m\u001b[1m   Installed\u001b[22m\u001b[39m DocStringExtensions ─ v0.9.3\n",
            "\u001b[32m\u001b[1m   Installed\u001b[22m\u001b[39m RandomNumbers ─────── v1.6.0\n",
            "\u001b[32m\u001b[1m   Installed\u001b[22m\u001b[39m DataStructures ────── v0.18.20\n"
          ]
        },
        {
          "output_type": "stream",
          "name": "stdout",
          "text": [
            "\u001b[32m\u001b[1mStatus\u001b[22m\u001b[39m `/content/drive/MyDrive/JuliaColab/Project.toml`\n",
            "  \u001b[90m[864edb3b] \u001b[39mDataStructures v0.18.20\n",
            "  \u001b[90m[e6cf234a] \u001b[39mRandomNumbers v1.6.0\n",
            "  \u001b[90m[2913bbd2] \u001b[39mStatsBase v0.34.3\n"
          ]
        },
        {
          "output_type": "stream",
          "name": "stderr",
          "text": [
            "\u001b[32m\u001b[1m  No Changes\u001b[22m\u001b[39m to `/content/drive/MyDrive/JuliaColab/Project.toml`\n",
            "\u001b[32m\u001b[1m  No Changes\u001b[22m\u001b[39m to `/content/drive/MyDrive/JuliaColab/Manifest.toml`\n"
          ]
        }
      ]
    },
    {
      "cell_type": "code",
      "source": [
        "]status"
      ],
      "metadata": {
        "colab": {
          "base_uri": "https://localhost:8080/"
        },
        "id": "9Dks_oyL92mq",
        "outputId": "d17bbf71-9a2c-4a52-e187-781c0a5770be"
      },
      "execution_count": 8,
      "outputs": [
        {
          "output_type": "stream",
          "name": "stdout",
          "text": [
            "\u001b[32m\u001b[1mStatus\u001b[22m\u001b[39m `/content/drive/MyDrive/JuliaColab/Project.toml`\n",
            "  \u001b[90m[864edb3b] \u001b[39mDataStructures v0.18.20\n",
            "  \u001b[90m[e6cf234a] \u001b[39mRandomNumbers v1.6.0\n",
            "  \u001b[90m[2913bbd2] \u001b[39mStatsBase v0.34.3\n"
          ]
        }
      ]
    },
    {
      "cell_type": "code",
      "source": [
        "using DataStructures\n",
        "using RandomNumbers.Xorshifts\n",
        "using StatsBase\n",
        "\n",
        "# Initialize random number generator\n",
        "rng = Xoroshiro128Plus(123)\n",
        "\n",
        "# Generate 100 random numbers\n",
        "data = rand(rng, 100)\n",
        "\n",
        "# Compute basic statistics\n",
        "mean_value = mean(data)\n",
        "std_dev = std(data)\n",
        "min_value = minimum(data)\n",
        "max_value = maximum(data)\n",
        "\n",
        "# Store data in a data structure\n",
        "hist = Histogram(data)\n",
        "\n",
        "# Output the results\n",
        "println(\"Mean value: \", mean_value)\n",
        "println(\"Standard deviation: \", std_dev)\n",
        "println(\"Minimum value: \", min_value)\n",
        "println(\"Maximum value: \", max_value)\n",
        "println(\"Histogram: \", hist)\n"
      ],
      "metadata": {
        "colab": {
          "base_uri": "https://localhost:8080/"
        },
        "id": "n9nn6tvl-mW6",
        "outputId": "eb2142c0-043f-4730-f21d-3b06b668ea12"
      },
      "execution_count": 20,
      "outputs": [
        {
          "output_type": "stream",
          "name": "stdout",
          "text": [
            "Mean value: 0.4748481147712145\n",
            "Standard deviation: 0.26995334248364594\n",
            "Minimum value: 0.024165730650812955\n",
            "Maximum value: 0.9760338960741082\n",
            "Histogram: Histogram{Int64, 1, Tuple{Vector{Float64}}}\n",
            "edges:\n",
            "  [0.7775445196103228, 0.5341210834147758, 0.11541616197950066, 0.5096101559449329, 0.05599812708327501, 0.28547506126292355, 0.6129154267038937, 0.5501835686233545, 0.3767697464542732, 0.9562676503914815, 0.921320207247518, 0.23775759870450708, 0.3368873777401835, 0.6950810981380675, 0.0987901609074544, 0.5246721509665186, 0.6179723849971888, 0.33215696210687007, 0.8653487972044569, 0.2745086590986343, 0.8392710732456443, 0.3128584197137403, 0.20219519145943732, 0.9760338960741082, 0.22029543713764022, 0.048498100371370034, 0.41443342768337943, 0.23225452787392964, 0.8358644383466611, 0.8231727877883914, 0.5023380935380417, 0.18359215180425426, 0.17682754329790717, 0.7415383180397215, 0.7858176498352363, 0.8908159497479999, 0.11312067029312245, 0.4445256543083924, 0.2513629631415051, 0.44833378154461334, 0.7577593713307653, 0.23850930795335246, 0.8086633806899786, 0.024165730650812955, 0.0913381247359979, 0.725313942181464, 0.5140259682965838, 0.2903688293530191, 0.11638427206635171, 0.7183334925963818, 0.18921869171009487, 0.3276816170445336, 0.34403956861265583, 0.4790152081239347, 0.832001863780703, 0.6085379869690488, 0.6632912462298952, 0.6235789078912046, 0.14807166286479045, 0.150489756690648, 0.9475587662738287, 0.3946213450973628, 0.479159297052145, 0.1232250966095112, 0.6699533548443337, 0.6857460868161303, 0.264824439844078, 0.3192870580674232, 0.17967285680376244, 0.3011843521602726, 0.599745406228102, 0.6543262261190088, 0.1720177694205398, 0.6955245526627793, 0.9024392655911928, 0.03360517102539018, 0.5142740930676397, 0.8611644806269985, 0.5417706931935329, 0.24449851072195306, 0.5377546366553372, 0.3846015888784713, 0.8765958686398261, 0.22096119588979146, 0.47130343576780054, 0.928660303075673, 0.21687436608550947, 0.47607304047628407, 0.6701062984724762, 0.34727132434303565, 0.5148666625323941, 0.949070817227099, 0.579234716823267, 0.040370035489261324, 0.6602344587462139, 0.4054189288733172, 0.5056859646923264, 0.07437690885870119, 0.5591707072990617, 0.7088454924721765]\n",
            "weights: [0, 0, 0, 0, 0, 0, 0, 0, 0, 0, 0, 0, 0, 0, 0, 0, 0, 0, 0, 0, 0, 0, 0, 0, 0, 0, 0, 0, 0, 0, 0, 0, 0, 0, 0, 0, 0, 0, 0, 0, 0, 0, 0, 0, 0, 0, 0, 0, 0, 0, 0, 0, 0, 0, 0, 0, 0, 0, 0, 0, 0, 0, 0, 0, 0, 0, 0, 0, 0, 0, 0, 0, 0, 0, 0, 0, 0, 0, 0, 0, 0, 0, 0, 0, 0, 0, 0, 0, 0, 0, 0, 0, 0, 0, 0, 0, 0, 0, 0]\n",
            "closed: left\n",
            "isdensity: false\n"
          ]
        }
      ]
    }
  ]
}